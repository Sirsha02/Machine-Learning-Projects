# %% [markdown]
# # IPL Player Valuation & Risk Analysis using Monte Carlo Simulation
# 
# **Project Goal:** To model IPL players as financial assets, using Monte Carlo simulation to estimate the risk (VaR) associated with their auction price based on historical performance.
# **Status:** In Progress (Data Collection & Model Prototyping Phase)
# 

# %%
# Importing Essential Libraries
import pandas as pd
import numpy as np
import matplotlib.pyplot as plt
import seaborn as sns
from scipy import stats
# Print all outputs in a cell
from IPython.core.interactiveshell import InteractiveShell
InteractiveShell.ast_node_interactivity = "all"

# %%
# %% [markdown]
# ## 1. Data Acquisition (Simulated Data - Placeholder)
# 
# *In progress: Web scraping IPL auction data and integrating with ball-by-ball data from Kaggle.*
# 
# For now, we simulate a small dataset for key players.

# %%
# Create a mock dataset of player performance (runs per season) and their last auction price (in INR Crores)
np.random.seed(42) # For reproducibility

mock_data = {
    'Player': ['V Kohli', 'R Sharma', 'J Bumrah', 'MS Dhoni', 'R Jadeja'],
    'Role': ['Batsman', 'Batsman', 'Bowler', 'Batsman', 'All-Rounder'],
    'Auction_Price_Cr': [15, 16, 12, 12, 10],
    'Performance_History': [
        [600, 550, 700, 400, 650],  # Kohli's runs last 5 seasons
        [500, 450, 580, 520, 350],  # Sharma's runs
        [25, 20, 27, 15, 30],       # Bumrah's wickets
        [450, 400, 350, 300, 250],  # Dhoni's runs
        [250, 40, 300, 35, 200, 25] # Jadeja's runs and wickets (will need special handling)
    ]
}

df_players = pd.DataFrame(mock_data)
print("Mock Player Dataset:")
df_players

# %%
# %% [markdown]
# ## 2. Feature Engineering: Calculating Key Performance Metrics
# 
# For this prototype, we focus on batsmen. We'll calculate the mean and standard deviation of their performance to parameterize our model.

# %%
# For this example, let's focus on the first two batsmen to keep it simple
df_batsmen = df_players[df_players['Role'].isin(['Batsman', 'All-Rounder'])].copy()
df_batsmen = df_batsmen.head(2) # Just take Kohli and Rohit for the simulation

# Calculate mean and standard deviation of historical performance
df_batsmen['Mean_Performance'] = df_batsmen['Performance_History'].apply(lambda x: np.mean(x))
df_batsmen['StdDev_Performance'] = df_batsmen['Performance_History'].apply(lambda x: np.std(x))
df_batsmen['ROI'] = df_batsmen['Mean_Performance'] / df_batsmen['Auction_Price_Cr'] # Simple Return on Investment

print("Player Metrics for Simulation:")
df_batsmen[['Player', 'Auction_Price_Cr', 'Mean_Performance', 'StdDev_Performance', 'ROI']]

# %%
# %% [markdown]
# ## 3. Monte Carlo Simulation for a Single Player
# 
# We run a simulation for Virat Kohli, assuming his future runs follow a Normal distribution based on his historical mean and standard deviation.

# %%
# Select a player for simulation
player_name = 'V Kohli'
player_stats = df_batsmen[df_batsmen['Player'] == player_name].iloc[0]

mean = player_stats['Mean_Performance']
std_dev = player_stats['StdDev_Performance']
price = player_stats['Auction_Price_Cr']

print(f"Simulation Parameters for {player_name}:")
print(f"  - Mean Expected Runs: {mean:.2f}")
print(f"  - Standard Deviation: {std_dev:.2f}")
print(f"  - Auction Price: {price} Cr")

# %%
# Run Monte Carlo Simulation
np.random.seed(42)
num_simulations = 10000
simulated_runs = np.random.normal(mean, std_dev, num_simulations)

# Plot the results
plt.figure(figsize=(10, 6))
plt.hist(simulated_runs, bins=50, edgecolor='black', alpha=0.7)
plt.title(f'Monte Carlo Simulation of Future Performance: {player_name}')
plt.xlabel('Simulated Runs in a Season')
plt.ylabel('Frequency')
plt.axvline(mean, color='r', linestyle='--', label=f'Mean ({mean:.0f} runs)')
plt.legend()
plt.show()

# %%
# %% [markdown]
# ## 4. Calculating Risk Metrics: Value-at-Risk (VaR)
# 
# VaR tells us the worst-case performance at a given confidence level. Here, we calculate the 5% VaR, meaning there is a 5% chance his runs will be below this value.

# %%
confidence_level = 0.95
var = np.percentile(simulated_runs, 100 * (1 - confidence_level))

print(f"Risk Analysis for {player_name}:")
print(f"  - Expected Performance: {mean:.0f} runs")
print(f"  - Value-at-Risk (VaR) at {confidence_level*100}% confidence: {var:.0f} runs")
print(f"  - Interpretation: There is a {100*(1-confidence_level)}% chance that {player_name} scores less than {var:.0f} runs next season.")

# Visualize the VaR
plt.figure(figsize=(10, 6))
plt.hist(simulated_runs, bins=50, edgecolor='black', alpha=0.7, label='Simulated Performance')
plt.axvline(mean, color='r', linestyle='--', label=f'Mean ({mean:.0f} runs)')
plt.axvline(var, color='g', linestyle='--', label=f'VaR {confidence_level*100}% ({var:.0f} runs)')
plt.title(f'Monte Carlo Simulation with VaR for {player_name}')
plt.xlabel('Simulated Runs in a Season')
plt.ylabel('Frequency')
plt.legend()
plt.show()

# %%
# %% [markdown]
# ## 5. Calculating Risk-Adjusted Return
# 
# We can now calculate a simple risk-adjusted metric. A higher ratio is better.

# %%
# A simple Risk-Adjusted Return metric: (Expected Return) / (VaR)
# This measures how much return we expect for each unit of downside risk.
risk_adjusted_return = mean / var if var > 0 else np.nan

print(f"Risk-Adjusted Return for {player_name}: {risk_adjusted_return:.4f}")
print("\nThis simple metric suggests how much performance (return) we expect per unit of downside risk. A higher number is better.")

# %%
# %% [markdown]
# ## 6. Next Steps & Future Work (In Progress)
# 
# 1.  **Real Data Integration:** Replace mock data with real ball-by-ball and auction data from sources like Kaggle and ESPN Cricinfo.
# 2.  **Advanced Distribution Fitting:** Test and use more appropriate distributions (e.g., Poisson for wickets, Negative Binomial for runs) instead of assuming normality.
# 3.  **Composite Performance Score:** Develop a single metric to fairly evaluate batsmen, bowlers, and all-rounders.
# 4.  **Portfolio Optimization:** Build an optimization model to select the best team of players within a budget constraint while managing total portfolio risk.
# 5.  **Web Application:** Develop a interactive Streamlit or Dash app for users to run their own simulations.
